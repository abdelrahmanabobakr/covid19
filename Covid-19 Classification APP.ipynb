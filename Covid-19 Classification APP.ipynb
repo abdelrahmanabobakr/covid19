{
 "cells": [
  {
   "cell_type": "code",
   "execution_count": 1,
   "id": "e642f8d6",
   "metadata": {},
   "outputs": [
    {
     "name": "stdout",
     "output_type": "stream",
     "text": [
      "Writing covid_app.py\n"
     ]
    }
   ],
   "source": [
    "%%writefile covid_app.py\n",
    "import numpy as np\n",
    "import streamlit as st\n",
    "import cv2\n",
    "from tensorflow.keras.models import load_model\n",
    "from PIL import Image\n",
    "\n",
    "st.title(\"Covid-19 Classification\")\n",
    "\n",
    "\n",
    "st.write(\"Covid-19 Prediction From x-ray\")\n",
    "\n",
    "#upload an image\n",
    "uploaded_image = st.file_uploader(\"Upload an Image\", type = ['jpg', 'png', 'jpeg'])\n",
    "\n",
    "#load model\n",
    "Model = load_model(\"D:\\\\New folder\\\\mony\\\\AI projects\\\\ml\\\\covid_19_model.h5\")\n",
    "\n",
    "if uploaded_image is not None: #if image exist\n",
    "    #open the image\n",
    "    img = Image.open(uploaded_image)\n",
    "    #show image using streamlit\n",
    "    st.image(img, caption = 'Uploaded Image.')\n",
    "    \n",
    "    #convert image to array \n",
    "    new_image = np.array(img)\n",
    "    \n",
    "    #resize image to 224 * 224\n",
    "    new_image = cv2.resize(new_image, (224,224))\n",
    "    \n",
    "    #convert image to gray scale\n",
    "    if new_image.ndim == 2:\n",
    "        new_image = cv2.cvtColor(new_image, cv2.COLOR_BGR2GRAY)\n",
    "        \n",
    "    #normalize image\n",
    "    new_image = new_image.astype('float32') / 255.0\n",
    "    \n",
    "    #reshape image\n",
    "    new_image = new_image.reshape(1,224,224,3)\n",
    "    \n",
    "    #make prediction\n",
    "    prediction = Model.predict(new_image)\n",
    "    \n",
    "    predicted_class = np.argmax(prediction, axis = 1)\n",
    "    \n",
    "    st.write(f'Predicted Class :{predicted_class[0]}')"
   ]
  },
  {
   "cell_type": "code",
   "execution_count": null,
   "id": "40e94674",
   "metadata": {},
   "outputs": [],
   "source": []
  }
 ],
 "metadata": {
  "kernelspec": {
   "display_name": "Python 3 (ipykernel)",
   "language": "python",
   "name": "python3"
  },
  "language_info": {
   "codemirror_mode": {
    "name": "ipython",
    "version": 3
   },
   "file_extension": ".py",
   "mimetype": "text/x-python",
   "name": "python",
   "nbconvert_exporter": "python",
   "pygments_lexer": "ipython3",
   "version": "3.11.7"
  }
 },
 "nbformat": 4,
 "nbformat_minor": 5
}
